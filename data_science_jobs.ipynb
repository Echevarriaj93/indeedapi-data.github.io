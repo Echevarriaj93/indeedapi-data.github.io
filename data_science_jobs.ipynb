{
 "cells": [
  {
   "cell_type": "code",
   "execution_count": 3,
   "id": "bdae1156-1ee6-49a6-a5a4-99ea10c0c7ec",
   "metadata": {},
   "outputs": [],
   "source": [
    "#loading dependencies\n",
    "\n",
    "import requests\n",
    "from bs4 import BeautifulSoup\n",
    "\n"
   ]
  },
  {
   "cell_type": "code",
   "execution_count": 17,
   "id": "2da060fe-96a9-4042-8e2a-d10a689b2a02",
   "metadata": {},
   "outputs": [
    {
     "data": {
      "text/plain": [
       "<!DOCTYPE html>\n",
       "\n",
       "<html lang=\"en-US\">\n",
       "<head>\n",
       "<title>Access denied</title>\n",
       "<meta content=\"IE=Edge\" http-equiv=\"X-UA-Compatible\"/>\n",
       "<meta content=\"noindex, nofollow\" name=\"robots\"/>\n",
       "<meta content=\"width=device-width,initial-scale=1\" name=\"viewport\"/>\n",
       "<link href=\"/cdn-cgi/styles/errors.css\" media=\"screen\" rel=\"stylesheet\"/>\n",
       "<script>\n",
       "(function(){if(document.addEventListener&&window.XMLHttpRequest&&JSON&&JSON.stringify){var e=function(a){var c=document.getElementById(\"error-feedback-survey\"),d=document.getElementById(\"error-feedback-success\"),b=new XMLHttpRequest;a={event:\"feedback clicked\",properties:{errorCode:1020,helpful:a,version:4}};b.open(\"POST\",\"https://sparrow.cloudflare.com/api/v1/event\");b.setRequestHeader(\"Content-Type\",\"application/json\");b.setRequestHeader(\"Sparrow-Source-Key\",\"c771f0e4b54944bebf4261d44bd79a1e\");\n",
       "b.send(JSON.stringify(a));c.classList.add(\"feedback-hidden\");d.classList.remove(\"feedback-hidden\")};document.addEventListener(\"DOMContentLoaded\",function(){var a=document.getElementById(\"error-feedback\"),c=document.getElementById(\"feedback-button-yes\"),d=document.getElementById(\"feedback-button-no\");\"classList\"in a&&(a.classList.remove(\"feedback-hidden\"),c.addEventListener(\"click\",function(){e(!0)}),d.addEventListener(\"click\",function(){e(!1)}))})}})();\n",
       "</script>\n",
       "<script>\n",
       "         (function(){if(document.addEventListener){var c=function(){var b=document.getElementById(\"copy-label\");document.getElementById(\"plain-ray-id\");if(navigator.clipboard)navigator.clipboard.writeText(\"763796e77cd23338\");else{var a=document.createElement(\"textarea\");a.value=\"763796e77cd23338\";a.style.top=\"0\";a.style.left=\"0\";a.style.position=\"fixed\";document.body.appendChild(a);a.focus();a.select();document.execCommand(\"copy\");document.body.removeChild(a)}b.innerText=\"Copied\"};document.addEventListener(\"DOMContentLoaded\",\n",
       "function(){var b=document.getElementById(\"plain-ray-id\"),a=document.getElementById(\"click-to-copy-btn\");\"classList\"in b&&(b.classList.add(\"hidden\"),a.classList.remove(\"hidden\"),a.addEventListener(\"click\",c))})}})();\n",
       "      </script>\n",
       "<script defer=\"\" src=\"https://performance.radar.cloudflare.com/beacon.js\"></script>\n",
       "</head>\n",
       "<body>\n",
       "<div class=\"main-wrapper\" role=\"main\">\n",
       "<div class=\"header section\">\n",
       "<h1>\n",
       "<span class=\"error-description\">Access denied</span>\n",
       "<span class=\"code-label\">Error code <span>1020</span></span>\n",
       "</h1>\n",
       "<div class=\"large-font\">\n",
       "<p>You cannot access www.indeed.com. Refresh the page or contact the site owner to request access.</p>\n",
       "</div>\n",
       "</div>\n",
       "</div>\n",
       "<div>\n",
       "<div class=\"section know-more\">\n",
       "<h2 class=\"large-font\">Troubleshooting information</h2>\n",
       "<p>Copy and paste the Ray ID when you contact the site owner.</p>\n",
       "<p class=\"ray-id-wrapper\">\n",
       "               Ray ID:\n",
       "               <span class=\"plain-ray-id\" id=\"plain-ray-id\">\n",
       "                  763796e77cd23338\n",
       "               </span>\n",
       "<button class=\"click-to-copy-btn hidden\" id=\"click-to-copy-btn\" title=\"Click to copy Ray ID\" type=\"button\">\n",
       "<span class=\"ray-id\">763796e77cd23338</span><span class=\"copy-label\" id=\"copy-label\">Copy</span>\n",
       "</button>\n",
       "</p>\n",
       "<p>\n",
       "            For help visit <a href=\"https://support.cloudflare.com/hc/articles/360029779472-Troubleshooting-Cloudflare-1XXX-errors?utm_source=1020_error#error1020\" rel=\"noopener noreferrer\" target=\"_blank\">Troubleshooting guide</a>\n",
       "<img alt=\"External link\" class=\"external-link\" src=\"/cdn-cgi/images/external.png\" title=\"Opens in new tab\"/>\n",
       "</p>\n",
       "</div>\n",
       "<div class=\"clearfix footer section\" role=\"contentinfo\">\n",
       "<div class=\"column\">\n",
       "<div class=\"feedback-hidden py-8 text-center\" id=\"error-feedback\">\n",
       "<div class=\"footer-line-wrapper\" id=\"error-feedback-survey\">\n",
       "        Was this page helpful?\n",
       "        <button class=\"border border-solid bg-white cf-button cursor-pointer ml-4 px-4 py-2 rounded\" id=\"feedback-button-yes\" type=\"button\">Yes</button>\n",
       "<button class=\"border border-solid bg-white cf-button cursor-pointer ml-4 px-4 py-2 rounded\" id=\"feedback-button-no\" type=\"button\">No</button>\n",
       "</div>\n",
       "<div class=\"feedback-success feedback-hidden\" id=\"error-feedback-success\">\n",
       "        Thank you for your feedback!\n",
       "    </div>\n",
       "</div>\n",
       "</div>\n",
       "<div class=\"column footer-line-wrapper text-center\">\n",
       "               Performance &amp; security by <a href=\"https://www.cloudflare.com?utm_source=1020_error\" rel=\"noopener noreferrer\" target=\"_blank\">Cloudflare</a>\n",
       "<img alt=\"External link\" class=\"external-link\" src=\"/cdn-cgi/images/external.png\" title=\"Opens in new tab\"/>\n",
       "</div>\n",
       "</div>\n",
       "</div>\n",
       "<script crossorigin=\"anonymous\" data-cf-beacon='{\"rayId\":\"763796e77cd23338\",\"token\":\"47161d92b8b74ef5b23469b91c2535c6\",\"version\":\"2022.10.3\",\"si\":100}' defer=\"\" integrity=\"sha512-0ahDYl866UMhKuYcW078ScMalXqtFJggm7TmlUtp0UlD4eQk0Ixfnm5ykXKvGJNFjLMoortdseTfsRT8oCfgGA==\" src=\"https://static.cloudflareinsights.com/beacon.min.js/vaafb692b2aea4879b33c060e79fe94621666317369993\"></script>\n",
       "</body>\n",
       "</html>"
      ]
     },
     "execution_count": 17,
     "metadata": {},
     "output_type": "execute_result"
    }
   ],
   "source": [
    "#following framework of extract, transform, load\n",
    "\n",
    "\n",
    "#first up is extract\n",
    "\n",
    "def extract(page):\n",
    "    #google search 'my user agent' to find this\n",
    "    headers = {'User-Agent':'Mozilla/5.0 (Macintosh; Intel Mac OS X 10_15_7) AppleWebKit/537.36 (KHTML, like Gecko) Chrome/106.0.0.0 Safari/537.36'}\n",
    "    \n",
    "    #url for extraction\n",
    "    url = f'https://www.indeed.com/jobs?q=data+scientist&l=United+States&start=0&vjk=e32efbc1a10347cb'\n",
    "    \n",
    "    r = requests.get(url, headers)\n",
    "    \n",
    "    soup = BeautifulSoup(r.content, 'html.parser')\n",
    "    \n",
    "    #test that this works\n",
    "    # return r.status_code\n",
    "    return soup\n",
    "\n",
    "extract(10)"
   ]
  },
  {
   "cell_type": "code",
   "execution_count": 12,
   "id": "fe67a3b4-e1f6-4fc5-a0cc-8e1acfa0dc68",
   "metadata": {},
   "outputs": [
    {
     "ename": "NameError",
     "evalue": "name 'r' is not defined",
     "output_type": "error",
     "traceback": [
      "\u001b[0;31m---------------------------------------------------------------------------\u001b[0m",
      "\u001b[0;31mNameError\u001b[0m                                 Traceback (most recent call last)",
      "\u001b[0;32m/var/folders/nc/wss6xytj6cd8x6r64p5ccwlh0000gn/T/ipykernel_29715/2932698267.py\u001b[0m in \u001b[0;36m<module>\u001b[0;34m\u001b[0m\n\u001b[0;32m----> 1\u001b[0;31m \u001b[0msoup\u001b[0m \u001b[0;34m=\u001b[0m \u001b[0mBeautifulSoup\u001b[0m\u001b[0;34m(\u001b[0m\u001b[0mr\u001b[0m\u001b[0;34m.\u001b[0m\u001b[0mcontent\u001b[0m\u001b[0;34m,\u001b[0m \u001b[0;34m'html.parser'\u001b[0m\u001b[0;34m)\u001b[0m\u001b[0;34m\u001b[0m\u001b[0;34m\u001b[0m\u001b[0m\n\u001b[0m",
      "\u001b[0;31mNameError\u001b[0m: name 'r' is not defined"
     ]
    }
   ],
   "source": [
    "soup = BeautifulSoup(r.content, 'html.parser')"
   ]
  },
  {
   "cell_type": "code",
   "execution_count": null,
   "id": "845ff19b-8fe4-4c69-bf8b-c0bdc60bdcbb",
   "metadata": {},
   "outputs": [],
   "source": []
  }
 ],
 "metadata": {
  "kernelspec": {
   "display_name": "Python 3 (ipykernel)",
   "language": "python",
   "name": "python3"
  },
  "language_info": {
   "codemirror_mode": {
    "name": "ipython",
    "version": 3
   },
   "file_extension": ".py",
   "mimetype": "text/x-python",
   "name": "python",
   "nbconvert_exporter": "python",
   "pygments_lexer": "ipython3",
   "version": "3.9.13"
  }
 },
 "nbformat": 4,
 "nbformat_minor": 5
}
